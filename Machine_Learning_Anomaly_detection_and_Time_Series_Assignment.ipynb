{
  "nbformat": 4,
  "nbformat_minor": 0,
  "metadata": {
    "colab": {
      "provenance": []
    },
    "kernelspec": {
      "name": "python3",
      "display_name": "Python 3"
    },
    "language_info": {
      "name": "python"
    }
  },
  "cells": [
    {
      "cell_type": "code",
      "execution_count": null,
      "metadata": {
        "id": "T597VHE-aEBU"
      },
      "outputs": [],
      "source": [
        "# Machine Learning- Anomaly detection and Time Series- Assignment"
      ]
    },
    {
      "cell_type": "markdown",
      "source": [
        "Question 1 : What is Dimensionality Reduction? Why is it important in machine\n",
        "learning?\n"
      ],
      "metadata": {
        "id": "s2ISCTJaae14"
      }
    },
    {
      "cell_type": "markdown",
      "source": [
        "Answer:\n",
        "\n",
        "Dimensionality Reduction is the process of reducing the number of features (variables or dimensions) in a dataset while retaining most of the important information. It can be categorized into two main approaches: Feature Selection (choosing a subset of original features) and Feature Extraction (transforming the data into a new, smaller set of features).\n",
        "\n",
        "\n",
        "It's important in machine learning for several reasons:\n",
        "\n",
        "Combating the Curse of Dimensionality: As the number of features increases, the amount of data needed to ensure a good representation of the feature space grows exponentially, leading to sparser data and increased computation time.\n",
        "\n",
        "Reducing Overfitting: By removing redundant or noisy features, dimensionality reduction simplifies the model, making it less likely to overfit the training data and improving its generalization capability.\n",
        "\n",
        "Improving Computational Efficiency: Training and running models with fewer features requires significantly less memory and time.\n",
        "\n",
        "Data Visualization: It allows high-dimensional data (e.g., 50 features) to be reduced to 2 or 3 dimensions, enabling visual inspection and analysis."
      ],
      "metadata": {
        "id": "KFqZgXHvaxVn"
      }
    },
    {
      "cell_type": "markdown",
      "source": [
        "Question 2: Name and briefly describe three common dimensionality reduction\n",
        "techniques.."
      ],
      "metadata": {
        "id": "xxj80E5oa2Dw"
      }
    },
    {
      "cell_type": "markdown",
      "source": [
        "Answer:\n",
        "\n",
        "Here are three common dimensionality reduction techniques:\n",
        "\n",
        "Principal Component Analysis (PCA): A Feature Extraction technique that transforms the features into a new set of orthogonal (uncorrelated) variables called Principal Components. It identifies the directions (principal components) that maximize the variance in the data, thus capturing the most important information in fewer dimensions.\n",
        "\n",
        "Linear Discriminant Analysis (LDA): Primarily a Feature Extraction technique used in supervised learning (unlike PCA). It aims to find the features that best separate the different classes in the dataset, maximizing the distance between class means while minimizing the variance within each class.\n",
        "\n",
        "Feature Importance (from Tree Models): A Feature Selection technique. Algorithms like Random Forest or Gradient Boosting calculate a score (feature importance) indicating how useful each feature is in predicting the target variable. Features with low importance scores can be safely removed."
      ],
      "metadata": {
        "id": "6etwLK4Ga5RA"
      }
    },
    {
      "cell_type": "markdown",
      "source": [
        "Question 3: What is clustering in unsupervised learning? Mention three popular\n",
        "clustering algorithms.\n"
      ],
      "metadata": {
        "id": "iw64aTaGa8X3"
      }
    },
    {
      "cell_type": "markdown",
      "source": [
        "Answer:\n",
        "Clustering is an unsupervised learning technique that groups data points into clusters such that points in the same cluster are more similar to each other than to those in other clusters.\n",
        "\n",
        "Popular clustering algorithms:\n",
        "\n",
        "K-Means Clustering\n",
        "\n",
        "Hierarchical Clustering\n",
        "\n",
        "DBSCAN (Density-Based Spatial Clustering of Applications with Noise)"
      ],
      "metadata": {
        "id": "INLXux7bbGQv"
      }
    },
    {
      "cell_type": "markdown",
      "source": [
        "Question 4: Explain the concept of anomaly detection and its significance."
      ],
      "metadata": {
        "id": "d4Om9rPYbtPi"
      }
    },
    {
      "cell_type": "markdown",
      "source": [
        "Answer:\n",
        "\n",
        "Anomaly detection is the process of identifying data points that deviate significantly from normal patterns.\n",
        "It is crucial because anomalies often represent critical incidents such as fraud, network intrusions, or equipment failures.\n",
        "\n",
        "Significance:\n",
        "\n",
        "Detects fraud or errors early.\n",
        "\n",
        "Improves system reliability and safety.\n",
        "\n",
        "Ensures data quality and security."
      ],
      "metadata": {
        "id": "nGoZKrTtbwLo"
      }
    },
    {
      "cell_type": "markdown",
      "source": [
        "Question 5: List and briefly describe three types of anomaly detection techniques.\n"
      ],
      "metadata": {
        "id": "CgcjUTdibzq-"
      }
    },
    {
      "cell_type": "markdown",
      "source": [
        "Answer:\n",
        "\n",
        "Statistical Methods:\n",
        "Identify anomalies based on probability distributions (e.g., values outside 3 standard deviations).\n",
        "\n",
        "Distance-Based Methods:\n",
        "Detect outliers based on distance metrics — points far from others are considered anomalies.\n",
        "\n",
        "Machine Learning Methods:\n",
        "Use models such as Isolation Forest, One-Class SVM, or Autoencoders to learn normal behavior and detect deviations."
      ],
      "metadata": {
        "id": "LUunIaSsb1_A"
      }
    },
    {
      "cell_type": "markdown",
      "source": [
        "Question 6: What is time series analysis? Mention two key components of time series\n",
        "data."
      ],
      "metadata": {
        "id": "Fo9N-L6Yb5NX"
      }
    },
    {
      "cell_type": "markdown",
      "source": [
        "Answer:\n",
        "\n",
        "Time series analysis studies data points collected over time to identify trends, patterns, and seasonality.\n",
        "\n",
        "Key components:\n",
        "\n",
        "Trend: Long-term upward or downward movement in data.\n",
        "\n",
        "Seasonality: Repeating patterns or cycles at fixed intervals (e.g., monthly, yearly)."
      ],
      "metadata": {
        "id": "5XSNNC2Lb8m-"
      }
    },
    {
      "cell_type": "markdown",
      "source": [
        "Question 7: Describe the difference between seasonality and cyclic behavior in time\n",
        "series"
      ],
      "metadata": {
        "id": "BaZkfIMncBZO"
      }
    },
    {
      "cell_type": "markdown",
      "source": [
        "Answer:\n",
        "\n",
        "| Aspect             | Seasonality                                       | Cyclic Behavior                |\n",
        "| ------------------ | ------------------------------------------------- | ------------------------------ |\n",
        "| **Duration**       | Fixed and known intervals (e.g., every 12 months) | Irregular intervals, not fixed |\n",
        "| **Example**        | Higher sales during festivals                     | Economic booms and recessions  |\n",
        "| **Predictability** | Predictable                                       | Hard to predict accurately     |\n"
      ],
      "metadata": {
        "id": "xBMTov4ecGh2"
      }
    },
    {
      "cell_type": "markdown",
      "source": [
        "Question 8: Write Python code to perform K-means clustering on a sample dataset.\n",
        "(Include your Python code and output in the code box below.)\n"
      ],
      "metadata": {
        "id": "EzrQ15gvcPUn"
      }
    },
    {
      "cell_type": "code",
      "source": [
        "# K-Means Clustering Example\n",
        "from sklearn.datasets import make_blobs\n",
        "from sklearn.cluster import KMeans\n",
        "import matplotlib.pyplot as plt\n",
        "\n",
        "# Generate synthetic dataset\n",
        "X, y = make_blobs(n_samples=200, centers=3, random_state=42)\n",
        "\n",
        "# Apply KMeans\n",
        "kmeans = KMeans(n_clusters=3, random_state=42)\n",
        "y_pred = kmeans.fit_predict(X)\n",
        "\n",
        "# Plot clusters\n",
        "plt.scatter(X[:, 0], X[:, 1], c=y_pred, cmap='rainbow', s=50)\n",
        "plt.scatter(kmeans.cluster_centers_[:, 0], kmeans.cluster_centers_[:, 1],\n",
        "            c='black', marker='X', s=200, label='Centroids')\n",
        "plt.title(\"K-Means Clustering Result\")\n",
        "plt.legend()\n",
        "plt.show()\n"
      ],
      "metadata": {
        "colab": {
          "base_uri": "https://localhost:8080/",
          "height": 452
        },
        "id": "DYyjV4PwcUZO",
        "outputId": "f79d5152-f1ba-4c6e-c44e-472e69af3b65"
      },
      "execution_count": 1,
      "outputs": [
        {
          "output_type": "display_data",
          "data": {
            "text/plain": [
              "<Figure size 640x480 with 1 Axes>"
            ],
            "image/png": "[encoded data removed]"
          },
          "metadata": {}
        }
      ]
    },
    {
      "cell_type": "markdown",
      "source": [
        "Question 9: What is inheritance in OOP? Provide a simple example in Python.\n"
      ],
      "metadata": {
        "id": "jDWFPFdVcWhD"
      }
    },
    {
      "cell_type": "markdown",
      "source": [
        "Answer:\n",
        "\n",
        "Inheritance allows one class (child class) to acquire the properties and methods of another class (parent class). It promotes code reuse and modularity."
      ],
      "metadata": {
        "id": "8FvOEFk8cbGj"
      }
    },
    {
      "cell_type": "code",
      "source": [
        "# Example of Inheritance in Python\n",
        "class Animal:\n",
        "    def speak(self):\n",
        "        return \"This animal makes a sound.\"\n",
        "\n",
        "class Dog(Animal):\n",
        "    def speak(self):\n",
        "        return \"The dog barks.\"\n",
        "\n",
        "# Create objects\n",
        "a = Animal()\n",
        "d = Dog()\n",
        "\n",
        "print(a.speak())  # Output: This animal makes a sound.\n",
        "print(d.speak())  # Output: The dog barks.\n"
      ],
      "metadata": {
        "colab": {
          "base_uri": "https://localhost:8080/"
        },
        "id": "ykRBHQrscffH",
        "outputId": "d7026f32-1a19-41d4-85e6-a022511eeafe"
      },
      "execution_count": 2,
      "outputs": [
        {
          "output_type": "stream",
          "name": "stdout",
          "text": [
            "This animal makes a sound.\n",
            "The dog barks.\n"
          ]
        }
      ]
    },
    {
      "cell_type": "markdown",
      "source": [
        "Question 10: How can time series analysis be used for anomaly detection?\n"
      ],
      "metadata": {
        "id": "a2o_mFYacjDW"
      }
    },
    {
      "cell_type": "markdown",
      "source": [
        "Answer:\n",
        "\n",
        "Time series analysis helps detect anomalies by identifying points that deviate from expected temporal patterns.\n",
        "\n",
        "Methods include:\n",
        "\n",
        "Statistical models: ARIMA, Exponential Smoothing to forecast normal behavior.\n",
        "\n",
        "Residual analysis: Points with large forecast errors are flagged as anomalies.\n",
        "\n",
        "Machine learning models: LSTM or Autoencoders can detect unusual temporal patterns.\n",
        "\n",
        "Example Use Case:\n",
        "\n",
        "Detecting sudden spikes in website traffic or credit card transactions over"
      ],
      "metadata": {
        "id": "04cfY2CMcoIx"
      }
    }
  ]
}